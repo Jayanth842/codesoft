import pandas as pd
import numpy as np
import matplotlib.pyplot as plt
import seaborn as sns
from sklearn.model_selection import train_test_split
from sklearn.linear_model import LinearRegression
from sklearn.metrics import mean_squared_error, r2_score

# Load the Dataset
data = pd.read_csv('IMDB India Movies.csv')  # Replace with the correct file path
print("Dataset Head:")
print(data.head())

# Data Exploration
print("\nDataset Info:")
print(data.info())
print("\nMissing Values:")
print(data.isnull().sum())

# Data Cleaning
# Dropping Irrelevant Columns
data = data.drop(['Description', 'Votes', 'Poster_Link'], axis=1)

# Filling Missing Values
data['IMDB_Rating'].fillna(data['IMDB_Rating'].mean(), inplace=True)
data['Runtime'] = data['Runtime'].str.replace(' min', '').astype(float)

# Encoding Categorical Data
data = pd.get_dummies(data, columns=['Genre', 'Director'], drop_first=True)

# Feature Selection
X = data[['Runtime', 'Year']]
y = data['IMDB_Rating']

# Splitting Data into Training and Testing Sets
X_train, X_test, y_train, y_test = train_test_split(X, y, test_size=0.2, random_state=42)

# Model Training
model = LinearRegression()
model.fit(X_train, y_train)

# Model Evaluation
y_pred = model.predict(X_test)

print("\nMean Squared Error:", mean_squared_error(y_test, y_pred))
print("R2 Score:", r2_score(y_test, y_pred))

# Visualization
plt.figure(figsize=(10, 6))
sns.scatterplot(x=y_test, y=y_pred)
plt.xlabel("Actual Ratings")
plt.ylabel("Predicted Ratings")
plt.title("Actual vs Predicted Ratings")
plt.show()
